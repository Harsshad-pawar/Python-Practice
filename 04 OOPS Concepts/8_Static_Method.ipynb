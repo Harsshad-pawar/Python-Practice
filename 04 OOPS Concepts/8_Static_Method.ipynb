{
 "cells": [
  {
   "cell_type": "markdown",
   "metadata": {},
   "source": [
    "STATIC METHOD"
   ]
  },
  {
   "cell_type": "code",
   "execution_count": 1,
   "metadata": {},
   "outputs": [],
   "source": [
    "class pwskills:\n",
    "  def student_details(self, name, mailid,number):\n",
    "    print(name, mailid, number)"
   ]
  },
  {
   "cell_type": "code",
   "execution_count": 2,
   "metadata": {},
   "outputs": [],
   "source": [
    "pw = pwskills()"
   ]
  },
  {
   "cell_type": "code",
   "execution_count": 3,
   "metadata": {},
   "outputs": [
    {
     "name": "stdout",
     "output_type": "stream",
     "text": [
      "Raj raj@gmail.com 1234567890\n"
     ]
    }
   ],
   "source": [
    "pw.student_details(\"Raj\", \"raj@gmail.com\", 1234567890)"
   ]
  },
  {
   "cell_type": "code",
   "execution_count": 17,
   "metadata": {},
   "outputs": [],
   "source": [
    "# if I want to create a function which should not depend on object creation, then I can use @staticmethod decorator\n",
    "\n",
    "class pwskills1:\n",
    "  \n",
    "  def student_details(self, name, mailid,number):\n",
    "    print(name, mailid, number)\n",
    "    self.student_details(\"Raj\")\n",
    "  \n",
    "  @staticmethod\n",
    "  def mentor_class(list_mentors):\n",
    "    print(list_mentors)\n",
    "\n",
    "  def mentor(self,mentor_list):\n",
    "    print(mentor_list)\n",
    "    self.mentor_class([\"mentor1\", \"mentor2\", \"mentor3\"])"
   ]
  },
  {
   "cell_type": "code",
   "execution_count": 13,
   "metadata": {},
   "outputs": [
    {
     "name": "stdout",
     "output_type": "stream",
     "text": [
      "['Raj', 'Rahul', 'Ravi']\n"
     ]
    }
   ],
   "source": [
    "pwskills1.mentor_class([\"Raj\", \"Rahul\", \"Ravi\"])"
   ]
  },
  {
   "cell_type": "code",
   "execution_count": 14,
   "metadata": {},
   "outputs": [],
   "source": [
    "pw1 = pwskills1()"
   ]
  },
  {
   "cell_type": "code",
   "execution_count": 18,
   "metadata": {},
   "outputs": [
    {
     "name": "stdout",
     "output_type": "stream",
     "text": [
      "['HArsshad', 'Praneeth']\n"
     ]
    },
    {
     "ename": "NameError",
     "evalue": "name 'list_mentors' is not defined",
     "output_type": "error",
     "traceback": [
      "\u001b[1;31m---------------------------------------------------------------------------\u001b[0m",
      "\u001b[1;31mNameError\u001b[0m                                 Traceback (most recent call last)",
      "Cell \u001b[1;32mIn[18], line 1\u001b[0m\n\u001b[1;32m----> 1\u001b[0m \u001b[43mpw1\u001b[49m\u001b[38;5;241;43m.\u001b[39;49m\u001b[43mmentor\u001b[49m\u001b[43m(\u001b[49m\u001b[43m[\u001b[49m\u001b[38;5;124;43m'\u001b[39;49m\u001b[38;5;124;43mHArsshad\u001b[39;49m\u001b[38;5;124;43m'\u001b[39;49m\u001b[43m,\u001b[49m\u001b[38;5;124;43m'\u001b[39;49m\u001b[38;5;124;43mPraneeth\u001b[39;49m\u001b[38;5;124;43m'\u001b[39;49m\u001b[43m]\u001b[49m\u001b[43m)\u001b[49m\n",
      "Cell \u001b[1;32mIn[12], line 15\u001b[0m, in \u001b[0;36mpwskills1.mentor\u001b[1;34m(self, mentor_list)\u001b[0m\n\u001b[0;32m     13\u001b[0m \u001b[38;5;28;01mdef\u001b[39;00m \u001b[38;5;21mmentor\u001b[39m(\u001b[38;5;28mself\u001b[39m,mentor_list):\n\u001b[0;32m     14\u001b[0m   \u001b[38;5;28mprint\u001b[39m(mentor_list)\n\u001b[1;32m---> 15\u001b[0m   \u001b[38;5;28mself\u001b[39m\u001b[38;5;241m.\u001b[39mmentor_class(\u001b[43mlist_mentors\u001b[49m)\n",
      "\u001b[1;31mNameError\u001b[0m: name 'list_mentors' is not defined"
     ]
    }
   ],
   "source": [
    "pw1.mentor(['HArsshad','Praneeth'])"
   ]
  },
  {
   "cell_type": "code",
   "execution_count": 11,
   "metadata": {},
   "outputs": [
    {
     "name": "stdout",
     "output_type": "stream",
     "text": [
      "['Dipali', 'Abhijit', 'Ganesh']\n"
     ]
    }
   ],
   "source": [
    "pw1.mentor_class(['Dipali', 'Abhijit', 'Ganesh'])"
   ]
  }
 ],
 "metadata": {
  "kernelspec": {
   "display_name": "Python 3",
   "language": "python",
   "name": "python3"
  },
  "language_info": {
   "codemirror_mode": {
    "name": "ipython",
    "version": 3
   },
   "file_extension": ".py",
   "mimetype": "text/x-python",
   "name": "python",
   "nbconvert_exporter": "python",
   "pygments_lexer": "ipython3",
   "version": "3.12.0"
  }
 },
 "nbformat": 4,
 "nbformat_minor": 2
}
