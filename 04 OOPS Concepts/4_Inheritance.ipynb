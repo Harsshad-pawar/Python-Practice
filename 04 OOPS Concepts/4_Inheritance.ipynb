{
 "cells": [
  {
   "cell_type": "markdown",
   "metadata": {},
   "source": [
    "INHERITANCE"
   ]
  },
  {
   "cell_type": "code",
   "execution_count": 4,
   "metadata": {},
   "outputs": [],
   "source": [
    "# concept of Inheritance\n",
    "# Inheritance is a way to form new classes using classes that have already been defined."
   ]
  },
  {
   "cell_type": "code",
   "execution_count": 6,
   "metadata": {},
   "outputs": [],
   "source": [
    "class parent(grandParent):\n",
    "    def __init__(self):\n",
    "        print(\"This is the parent class\")\n",
    "\n",
    "    def parentFunc(self):\n",
    "        print(\"This is the parent function\")\n",
    "\n",
    "class child(parent):\n",
    "    def __init__(self):\n",
    "        print(\"This is the child class\")\n",
    "\n",
    "    def childFunc(self):\n",
    "        print(\"This is the child function\")"
   ]
  },
  {
   "cell_type": "code",
   "execution_count": 7,
   "metadata": {},
   "outputs": [
    {
     "name": "stdout",
     "output_type": "stream",
     "text": [
      "This is the child class\n"
     ]
    }
   ],
   "source": [
    "childObj = child()"
   ]
  },
  {
   "cell_type": "code",
   "execution_count": null,
   "metadata": {},
   "outputs": [],
   "source": [
    "childObj.parentFunc() # my parent function is available to me in child class and this is called inheritance."
   ]
  },
  {
   "cell_type": "code",
   "execution_count": 13,
   "metadata": {},
   "outputs": [],
   "source": [
    "# multilabled Inheritance\n",
    "class class1:\n",
    "  def test_class1(self):\n",
    "    print(\"This is class1\")"
   ]
  },
  {
   "cell_type": "code",
   "execution_count": 14,
   "metadata": {},
   "outputs": [],
   "source": [
    "class class2(class1):\n",
    "  def test_class2(self):\n",
    "    print(\"This is class2\")"
   ]
  },
  {
   "cell_type": "code",
   "execution_count": 15,
   "metadata": {},
   "outputs": [],
   "source": [
    "class class3(class2): # class3 is inheriting class2 and class2 is inheriting class1. this is called multilabled inheritance.\n",
    "  def test_class3(self):\n",
    "    print(\"This is class3\")"
   ]
  },
  {
   "cell_type": "code",
   "execution_count": 17,
   "metadata": {},
   "outputs": [
    {
     "name": "stdout",
     "output_type": "stream",
     "text": [
      "This is class1\n"
     ]
    }
   ],
   "source": [
    "# creating object of class3 and accessing properties of class1\n",
    "obj_class3 = class3()\n",
    "obj_class3.test_class1()"
   ]
  },
  {
   "cell_type": "code",
   "execution_count": 35,
   "metadata": {},
   "outputs": [],
   "source": [
    "# Multiple INheritance\n",
    "class cls1:\n",
    "  def test_cls1(self):\n",
    "    print(\"This is class1\")\n",
    "\n",
    "class cls2:\n",
    "  def test_cls2(self):\n",
    "    print(\"This is class2\")\n",
    "\n",
    "class cls3(cls1, cls2): # class3 is inheriting class1 and class2. this is called multiple inheritance.\n",
    "  def test_cls3(self):\n",
    "    print(\"This is class3\")"
   ]
  },
  {
   "cell_type": "code",
   "execution_count": 36,
   "metadata": {},
   "outputs": [],
   "source": [
    "obj_cls3 = cls3()"
   ]
  },
  {
   "cell_type": "code",
   "execution_count": 38,
   "metadata": {},
   "outputs": [
    {
     "name": "stdout",
     "output_type": "stream",
     "text": [
      "This is class1\n"
     ]
    }
   ],
   "source": [
    "obj_cls3.test_cls1()"
   ]
  },
  {
   "cell_type": "code",
   "execution_count": 40,
   "metadata": {},
   "outputs": [
    {
     "name": "stdout",
     "output_type": "stream",
     "text": [
      "This is class2\n"
     ]
    }
   ],
   "source": [
    "obj_cls3.test_cls2()"
   ]
  },
  {
   "cell_type": "code",
   "execution_count": 42,
   "metadata": {},
   "outputs": [
    {
     "name": "stdout",
     "output_type": "stream",
     "text": [
      "This is class3\n"
     ]
    }
   ],
   "source": [
    "obj_cls3.test_cls3()"
   ]
  }
 ],
 "metadata": {
  "kernelspec": {
   "display_name": "Python 3",
   "language": "python",
   "name": "python3"
  },
  "language_info": {
   "codemirror_mode": {
    "name": "ipython",
    "version": 3
   },
   "file_extension": ".py",
   "mimetype": "text/x-python",
   "name": "python",
   "nbconvert_exporter": "python",
   "pygments_lexer": "ipython3",
   "version": "3.12.0"
  }
 },
 "nbformat": 4,
 "nbformat_minor": 2
}
