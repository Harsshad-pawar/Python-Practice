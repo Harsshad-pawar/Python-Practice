{
 "cells": [
  {
   "cell_type": "code",
   "execution_count": null,
   "metadata": {},
   "outputs": [],
   "source": [
    "# Conditions\n",
    "# if, elif, else\n",
    "# while loop\n",
    "# for loop\n",
    "# range\n",
    "# break, continue, pass"
   ]
  },
  {
   "cell_type": "code",
   "execution_count": 1,
   "metadata": {},
   "outputs": [
    {
     "name": "stdout",
     "output_type": "stream",
     "text": [
      "a is less than 10\n"
     ]
    }
   ],
   "source": [
    "# if else Statement\n",
    "\n",
    "a = 10\n",
    "if a > 10:\n",
    "    print(\"a is greater than 10\")\n",
    "else:\n",
    "    print(\"a is less than 10\")"
   ]
  },
  {
   "cell_type": "code",
   "execution_count": 2,
   "metadata": {},
   "outputs": [
    {
     "name": "stdout",
     "output_type": "stream",
     "text": [
      "b is greater than 10\n"
     ]
    }
   ],
   "source": [
    "# if elif else Statement\n",
    "b = 20\n",
    "if b > 10:\n",
    "    print(\"b is greater than 10\")\n",
    "elif b == 20:\n",
    "    print(\"b is equal to 20\")\n",
    "else:\n",
    "    print(\"b is less than 20\")"
   ]
  },
  {
   "cell_type": "code",
   "execution_count": 3,
   "metadata": {},
   "outputs": [
    {
     "name": "stdout",
     "output_type": "stream",
     "text": [
      "c is greater than 10\n"
     ]
    }
   ],
   "source": [
    "# providing input value\n",
    "c = int(input(\"Enter a number: \"))\n",
    "if c > 10:\n",
    "    print(\"c is greater than 10\")\n",
    "elif c == 20:\n",
    "    print(\"c is equal to 20\")\n",
    "else:\n",
    "    print(\"c is less than 20\")"
   ]
  },
  {
   "cell_type": "code",
   "execution_count": 5,
   "metadata": {},
   "outputs": [
    {
     "name": "stdout",
     "output_type": "stream",
     "text": [
      "1\n",
      "2\n",
      "3\n",
      "4\n",
      "5\n",
      "6\n",
      "7\n",
      "8\n",
      "9\n",
      "10\n"
     ]
    }
   ],
   "source": [
    "# While loop\n",
    "\n",
    "n = 10\n",
    "i = 1\n",
    "\n",
    "while i <= n:   # while will check for a condition is true  and execute condition in loop (if false then loop will break)\n",
    "    print(i)\n",
    "    i = i + 1"
   ]
  },
  {
   "cell_type": "code",
   "execution_count": 17,
   "metadata": {},
   "outputs": [
    {
     "name": "stdout",
     "output_type": "stream",
     "text": [
      "5\n"
     ]
    }
   ],
   "source": [
    "print(i)"
   ]
  },
  {
   "cell_type": "code",
   "execution_count": 33,
   "metadata": {},
   "outputs": [
    {
     "name": "stdout",
     "output_type": "stream",
     "text": [
      "1\n",
      "2\n",
      "3\n",
      "4\n",
      "i is equal to 5\n"
     ]
    }
   ],
   "source": [
    "# if while has a break then while loop will end\n",
    "\n",
    " # while will check for a condition is true  and execute condition in loop (if false then loop will break or else if break is there then loop will validate that condition and then break will execute)\n",
    "\n",
    "n = 10\n",
    "i = 0\n",
    "\n",
    "while i <= n:  \n",
    "    \n",
    "    i = i + 1\n",
    "    if i == 5:\n",
    "        print(\"i is equal to 5\")\n",
    "        break  # it will break the loop and come out of the loop\n",
    "    else:\n",
    "        print(i)"
   ]
  },
  {
   "cell_type": "code",
   "execution_count": 30,
   "metadata": {},
   "outputs": [
    {
     "name": "stdout",
     "output_type": "stream",
     "text": [
      "2\n",
      "4\n",
      "5\n",
      "6\n",
      "7\n",
      "8\n",
      "9\n",
      "10\n",
      "11\n",
      "this will be executed once while will complete it sucessfully\n"
     ]
    }
   ],
   "source": [
    "# continue will skip the condition and execute the loop\n",
    "\n",
    "n = 10\n",
    "i = 1\n",
    "\n",
    "while i <= n:\n",
    "    i = i + 1\n",
    "    if i == 3:\n",
    "        continue  # it will skip the condition where condition is true (i == 3) and execute the loop\n",
    "    print(i)\n",
    "else:\n",
    "  print(\"this will be executed once while will complete it sucessfully\")\n",
    "  "
   ]
  },
  {
   "cell_type": "code",
   "execution_count": 31,
   "metadata": {},
   "outputs": [
    {
     "name": "stdout",
     "output_type": "stream",
     "text": [
      "1\n",
      "2\n",
      "3\n",
      "4\n"
     ]
    }
   ],
   "source": [
    "# for loop\n",
    "\n",
    "m = 5\n",
    "j = 1\n",
    "\n",
    "for j in range(1, m):   # for  will check for a condition is true  and execute condition in loop (if false then loop will break)\n",
    "    print(j)"
   ]
  },
  {
   "cell_type": "code",
   "execution_count": 35,
   "metadata": {},
   "outputs": [
    {
     "name": "stdout",
     "output_type": "stream",
     "text": [
      "h\n",
      "a\n",
      "r\n",
      "s\n",
      "s\n",
      "h\n",
      "a\n",
      "d\n"
     ]
    }
   ],
   "source": [
    "# for loop : extract characters from string\n",
    "h = \"harsshad\"\n",
    "for i in h:   # for will extract characters from string and print it one by one.\n",
    "    print(i)"
   ]
  },
  {
   "cell_type": "code",
   "execution_count": 36,
   "metadata": {},
   "outputs": [
    {
     "name": "stdout",
     "output_type": "stream",
     "text": [
      "1\n",
      "2\n",
      "3\n",
      "18\n",
      "harsshad\n",
      "kale\n",
      "10.5\n",
      "20.5\n",
      "True\n",
      "(5+6j)\n",
      "this will be executed once for will complete it sucessfully\n"
     ]
    }
   ],
   "source": [
    "l = [1,2,3,18,\"harsshad\", \"kale\", 10.5, 20.5, True, 5+6j]\n",
    "\n",
    "for i in l:\n",
    "    print(i)\n",
    "else:\n",
    "    print(\"this will be executed once for will complete it sucessfully\")"
   ]
  },
  {
   "cell_type": "code",
   "execution_count": 37,
   "metadata": {},
   "outputs": [
    {
     "name": "stdout",
     "output_type": "stream",
     "text": [
      "1\n",
      "2\n",
      "3\n",
      "18\n",
      "harsshad\n",
      "kale\n"
     ]
    }
   ],
   "source": [
    "l = [1,2,3,18,\"harsshad\", \"kale\", 10.5, 20.5, True, 5+6j]\n",
    "\n",
    "for i in l:\n",
    "    print(i)\n",
    "    if i == \"kale\":\n",
    "        break\n",
    "else:\n",
    "    print(\"this will be executed once for will complete it sucessfully\")"
   ]
  },
  {
   "cell_type": "code",
   "execution_count": 39,
   "metadata": {},
   "outputs": [
    {
     "name": "stdout",
     "output_type": "stream",
     "text": [
      "1\n",
      "2\n",
      "3\n",
      "18\n",
      "harsshad\n",
      "10.5\n",
      "20.5\n",
      "True\n",
      "(5+6j)\n",
      "this will be executed once for will complete it sucessfully\n"
     ]
    }
   ],
   "source": [
    "l = [1,2,3,18,\"harsshad\", \"kale\", 10.5, 20.5, True, 5+6j]\n",
    "\n",
    "for i in l:\n",
    "    if i == \"kale\":\n",
    "        continue\n",
    "    print(i)\n",
    "else:\n",
    "    print(\"this will be executed once for will complete it sucessfully\")"
   ]
  },
  {
   "cell_type": "code",
   "execution_count": 10,
   "metadata": {},
   "outputs": [
    {
     "ename": "SyntaxError",
     "evalue": "invalid syntax (262931349.py, line 6)",
     "output_type": "error",
     "traceback": [
      "\u001b[1;36m  Cell \u001b[1;32mIn[10], line 6\u001b[1;36m\u001b[0m\n\u001b[1;33m    for  (j == 1, J<=m, j++){ # for  will check for a condition is true  and execute condition in loop (if false then loop will break)\u001b[0m\n\u001b[1;37m                           ^\u001b[0m\n\u001b[1;31mSyntaxError\u001b[0m\u001b[1;31m:\u001b[0m invalid syntax\n"
     ]
    }
   ],
   "source": [
    "# for loop incorrect syntax\n",
    "\n",
    "m = 5\n",
    "j = 1\n",
    "\n",
    "for (j == 1; J<=m; j++){ # for  will check for a condition is true  and execute condition in loop (if false then loop will break)\n",
    "    print(j)\n",
    "}"
   ]
  },
  {
   "cell_type": "code",
   "execution_count": 40,
   "metadata": {},
   "outputs": [
    {
     "data": {
      "text/plain": [
       "[0, 1, 2, 3, 4, 5, 6, 7, 8, 9]"
      ]
     },
     "execution_count": 40,
     "metadata": {},
     "output_type": "execute_result"
    }
   ],
   "source": [
    "# range loop\n",
    "\n",
    "list(range(10)) # it will print 0 to 9, it will control upper bound."
   ]
  },
  {
   "cell_type": "code",
   "execution_count": null,
   "metadata": {},
   "outputs": [],
   "source": [
    "# will learn this range function in List chapter. "
   ]
  },
  {
   "cell_type": "code",
   "execution_count": null,
   "metadata": {},
   "outputs": [],
   "source": []
  },
  {
   "cell_type": "code",
   "execution_count": null,
   "metadata": {},
   "outputs": [],
   "source": []
  },
  {
   "cell_type": "code",
   "execution_count": null,
   "metadata": {},
   "outputs": [],
   "source": []
  },
  {
   "cell_type": "code",
   "execution_count": null,
   "metadata": {},
   "outputs": [],
   "source": []
  },
  {
   "cell_type": "code",
   "execution_count": null,
   "metadata": {},
   "outputs": [],
   "source": []
  },
  {
   "cell_type": "code",
   "execution_count": null,
   "metadata": {},
   "outputs": [],
   "source": []
  },
  {
   "cell_type": "code",
   "execution_count": null,
   "metadata": {},
   "outputs": [],
   "source": []
  },
  {
   "cell_type": "code",
   "execution_count": null,
   "metadata": {},
   "outputs": [],
   "source": []
  },
  {
   "cell_type": "code",
   "execution_count": null,
   "metadata": {},
   "outputs": [],
   "source": []
  },
  {
   "cell_type": "code",
   "execution_count": null,
   "metadata": {},
   "outputs": [],
   "source": []
  },
  {
   "cell_type": "code",
   "execution_count": null,
   "metadata": {},
   "outputs": [],
   "source": []
  }
 ],
 "metadata": {
  "kernelspec": {
   "display_name": "Python 3",
   "language": "python",
   "name": "python3"
  },
  "language_info": {
   "codemirror_mode": {
    "name": "ipython",
    "version": 3
   },
   "file_extension": ".py",
   "mimetype": "text/x-python",
   "name": "python",
   "nbconvert_exporter": "python",
   "pygments_lexer": "ipython3",
   "version": "3.10.13"
  }
 },
 "nbformat": 4,
 "nbformat_minor": 2
}
